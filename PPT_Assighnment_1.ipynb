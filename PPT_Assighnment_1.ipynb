{
  "nbformat": 4,
  "nbformat_minor": 0,
  "metadata": {
    "colab": {
      "provenance": []
    },
    "kernelspec": {
      "name": "python3",
      "display_name": "Python 3"
    },
    "language_info": {
      "name": "python"
    }
  },
  "cells": [
    {
      "cell_type": "markdown",
      "source": [
        "## Interview Questions on Data Structures and Algorithms"
      ],
      "metadata": {
        "id": "KNA2gxHInbvE"
      }
    },
    {
      "cell_type": "markdown",
      "source": [
        "<aside>\n",
        "💡 **Q1.** Given an array of integers nums and an integer target, return indices of the two numbers such that they add up to target.\n",
        "\n",
        "You may assume that each input would have exactly one solution, and you may not use the same element twice.\n",
        "\n",
        "You can return the answer in any order.\n",
        "\n",
        "**Example:**\n",
        "Input: nums = [2,7,11,15], target = 9\n",
        "Output0 [0,1]\n",
        "\n",
        "**Explanation:** Because nums[0] + nums[1] == 9, we return [0, 1][\n",
        "\n",
        "</aside>"
      ],
      "metadata": {
        "id": "To1NqbkXnVv6"
      }
    },
    {
      "cell_type": "code",
      "execution_count": null,
      "metadata": {
        "colab": {
          "base_uri": "https://localhost:8080/"
        },
        "id": "zBgF1oyynGXj",
        "outputId": "69d5e8ba-9aa1-4a5e-a220-de73cf286298"
      },
      "outputs": [
        {
          "output_type": "execute_result",
          "data": {
            "text/plain": [
              "[[0, 1], [3, 5]]"
            ]
          },
          "metadata": {},
          "execution_count": 10
        }
      ],
      "source": [
        "def find_target_indices(nums,target):\n",
        "  n = len(nums)\n",
        "  res = []\n",
        "  for i in range(0,n-1):\n",
        "    for j in range(i+1,n):\n",
        "      sum = nums[i] + nums[j]\n",
        "      if nums[i] + nums[j] == target:\n",
        "        if i != j and nums[i] == nums[j] :\n",
        "          continue\n",
        "        res.append([i,j])\n",
        "  return res\n",
        "### Driver Code\n",
        "nums = [2,7,11,15]\n",
        "target = 9\n",
        "find_target_indices(nums,target) ## Output : [0,1]"
      ]
    },
    {
      "cell_type": "markdown",
      "source": [
        "Time Complexity : O(nˆ2) . It iterates through all pairs of indices, making n comparisons in the worst case.\n",
        "\n",
        "Space Complexity : O(n). It uses a linear space in the res list to store the target indices.\n"
      ],
      "metadata": {
        "id": "dK_RkJ6nprq5"
      }
    },
    {
      "cell_type": "markdown",
      "source": [
        "Optimised Solution :"
      ],
      "metadata": {
        "id": "qbvc1fkM2Q4q"
      }
    },
    {
      "cell_type": "code",
      "source": [
        "def find_target_index(nums, target):\n",
        "    num_indices = {}  # Dictionary to store indices of encountered elements\n",
        "    res = set()  # Use a set to store unique pairs\n",
        "\n",
        "    for i, num in enumerate(nums):\n",
        "        complement = target - num\n",
        "        if complement in num_indices:\n",
        "            # Check if the pair already exists to avoid duplicates\n",
        "            pair = (num_indices[complement], i)\n",
        "            if pair[0] != pair[1]:\n",
        "                res.add(pair)\n",
        "\n",
        "        num_indices[num] = i\n",
        "\n",
        "    return list(res)\n",
        "\n",
        "# Driver Code\n",
        "nums = [2, 7, 11, 15]\n",
        "target = 9\n",
        "print(find_target_index(nums, target))  # Output: [[0, 1]]"
      ],
      "metadata": {
        "colab": {
          "base_uri": "https://localhost:8080/"
        },
        "id": "K2lG04wQUR6Y",
        "outputId": "55ede65c-8ef2-4c9c-b900-55f6c505f8f6"
      },
      "execution_count": null,
      "outputs": [
        {
          "output_type": "stream",
          "name": "stdout",
          "text": [
            "[(0, 1)]\n"
          ]
        }
      ]
    },
    {
      "cell_type": "markdown",
      "source": [
        "Time Complexity : O(n)\n",
        "\n",
        "Space Complexity : O(n)"
      ],
      "metadata": {
        "id": "ZgMhcV2JcP9s"
      }
    },
    {
      "cell_type": "markdown",
      "source": [
        "<aside>\n",
        "💡 **Q2.** Given an integer array nums and an integer val, remove all occurrences of val in nums in-place. The order of the elements may be changed. Then return the number of elements in nums which are not equal to val.\n",
        "\n",
        "Consider the number of elements in nums which are not equal to val be k, to get accepted, you need to do the following things:\n",
        "\n",
        "- Change the array nums such that the first k elements of nums contain the elements which are not equal to val. The remaining elements of nums are not important as well as the size of nums.\n",
        "- Return k.\n",
        "\n",
        "**Example :**\n",
        "Input: nums = [3,2,2,3], val = 3\n",
        "Output: 2, nums = [2,2,_*,_*]\n",
        "\n",
        "**Explanation:** Your function should return k = 2, with the first two elements of nums being 2. It does not matter what you leave beyond the returned k (hence they are underscores)[\n",
        "\n",
        "</aside>"
      ],
      "metadata": {
        "id": "6AhsTS0Uc1YH"
      }
    },
    {
      "cell_type": "code",
      "source": [
        "def remove_ele(nums,val):\n",
        "  return [num for num in nums if num != val]\n",
        "### Driver Code\n",
        "nums = [3,2,2,3]\n",
        "val = 3\n",
        "remove_ele(nums,val)"
      ],
      "metadata": {
        "colab": {
          "base_uri": "https://localhost:8080/"
        },
        "id": "2R8RGbg1WL3X",
        "outputId": "ead51363-1169-49d9-c652-02388cbcd7a2"
      },
      "execution_count": null,
      "outputs": [
        {
          "output_type": "execute_result",
          "data": {
            "text/plain": [
              "[2, 2]"
            ]
          },
          "metadata": {},
          "execution_count": 10
        }
      ]
    },
    {
      "cell_type": "markdown",
      "source": [
        "Optimised Approach :"
      ],
      "metadata": {
        "id": "Ubw-Wob0fUlf"
      }
    },
    {
      "cell_type": "code",
      "source": [
        "def remove_elem(nums,val):\n",
        "  n =  len(nums)\n",
        "  ## Initialise the variable to track the index and count of non-val elements\n",
        "  count = 0\n",
        "  # Iterate through the array\n",
        "  for i in range(n):\n",
        "    ## if the current element is not equal to val, keep it in array\n",
        "    if nums[i] != val:\n",
        "      nums[count] = nums[i]\n",
        "      count += 1\n",
        "    # The first 'count' elements now contain elements not equal to val\n",
        "  return count,nums[:count]\n",
        "### Driver Code\n",
        "nums = [3,2,2,3]\n",
        "val = 3\n",
        "remove_elem(nums,val)"
      ],
      "metadata": {
        "id": "2KCqmPj7d7mQ",
        "colab": {
          "base_uri": "https://localhost:8080/"
        },
        "outputId": "0a20bb1d-b27d-41b9-cb02-c97ae839b36c"
      },
      "execution_count": null,
      "outputs": [
        {
          "output_type": "execute_result",
          "data": {
            "text/plain": [
              "(2, [2, 2])"
            ]
          },
          "metadata": {},
          "execution_count": 9
        }
      ]
    },
    {
      "cell_type": "markdown",
      "source": [
        "<aside>\n",
        "💡 **Q3.** Given a sorted array of distinct integers and a target value, return the index if the target is found. If not, return the index where it would be if it were inserted in order.\n",
        "\n",
        "You must write an algorithm with O(log n) runtime complexity.\n",
        "\n",
        "**Example 1:**\n",
        "Input: nums = [1,3,5,6], target = 5\n",
        "\n",
        "Output: 2\n",
        "\n",
        "</aside>"
      ],
      "metadata": {
        "id": "--J2ef6w_bbK"
      }
    },
    {
      "cell_type": "markdown",
      "source": [
        "Linear Search Algorithm"
      ],
      "metadata": {
        "id": "xWkW2BqoDIA9"
      }
    },
    {
      "cell_type": "code",
      "source": [
        "def find_target_value(nums,target):\n",
        "  n = len(nums)\n",
        "  indices = []\n",
        "  for i in range(0,n):\n",
        "    if nums[i] == target:\n",
        "      indices.append(i)\n",
        "  return indices\n",
        "### Driver Code\n",
        "nums = [1,3,5,6]\n",
        "target = 5\n",
        "find_target_value(nums,target)"
      ],
      "metadata": {
        "colab": {
          "base_uri": "https://localhost:8080/"
        },
        "id": "BGrWmNT15HlQ",
        "outputId": "230f8022-c0d1-4ac4-c278-0dd8cf5120d5"
      },
      "execution_count": null,
      "outputs": [
        {
          "output_type": "execute_result",
          "data": {
            "text/plain": [
              "[2]"
            ]
          },
          "metadata": {},
          "execution_count": 12
        }
      ]
    },
    {
      "cell_type": "markdown",
      "source": [
        "Time Complexity : O(n)\n",
        "\n",
        "Space Complexity : O(k)\n",
        "\n",
        "where k is the no of occurances of the element"
      ],
      "metadata": {
        "id": "PohXeRKjCezi"
      }
    },
    {
      "cell_type": "markdown",
      "source": [
        "Binary Search Algorithm :"
      ],
      "metadata": {
        "id": "-pPsgAp9DN5C"
      }
    },
    {
      "cell_type": "code",
      "source": [
        "def binary_search(nums,target):\n",
        "  n = len(nums)\n",
        "  left = 0\n",
        "  right = n - 1\n",
        "  while left <= right:\n",
        "     mid = left + (right - left)//2\n",
        "     if nums[mid] == target:\n",
        "      return mid\n",
        "     elif nums[mid] < target:\n",
        "      left = mid + 1\n",
        "     else:\n",
        "      right = mid - 1\n",
        "  # If the target value is not found, return the index where it would be if it were inserted in order.\n",
        "  return left if nums[left] < target else right + 1\n",
        "### Driver Code\n",
        "nums = [1,3,5,6]\n",
        "target = 5\n",
        "binary_search(nums,target)"
      ],
      "metadata": {
        "colab": {
          "base_uri": "https://localhost:8080/"
        },
        "id": "CP2E05zfBguZ",
        "outputId": "f6bfaf72-d5fd-4b59-f703-db78e799a6ff"
      },
      "execution_count": null,
      "outputs": [
        {
          "output_type": "execute_result",
          "data": {
            "text/plain": [
              "2"
            ]
          },
          "metadata": {},
          "execution_count": 18
        }
      ]
    },
    {
      "cell_type": "markdown",
      "source": [
        "<aside>\n",
        "💡 **Q4.** You are given a large integer represented as an integer array digits, where each digits[i] is the ith digit of the integer. The digits are ordered from most significant to least significant in left-to-right order. The large integer does not contain any leading 0's.\n",
        "\n",
        "Increment the large integer by one and return the resulting array of digits.\n",
        "\n",
        "**Example 1:**\n",
        "Input: digits = [1,2,3]\n",
        "Output: [1,2,4]\n",
        "\n",
        "**Explanation:** The array represents the integer 123.\n",
        "\n",
        "Incrementing by one gives 123 + 1 = 124.\n",
        "Thus, the result should be [1,2,4].\n",
        "\n",
        "</aside>"
      ],
      "metadata": {
        "id": "V0hd3Oj2Faxo"
      }
    },
    {
      "cell_type": "code",
      "source": [
        "def increment_array(arr):\n",
        "  n = len(arr)\n",
        "  r = n - 1\n",
        "  # Initialise carry to 1 for incrementing the last digit\n",
        "  carry = 1\n",
        "  for i in range(r,-1,-1):\n",
        "    total = arr[i] + carry\n",
        "    # Update the current digit\n",
        "    arr[i] =  total % 10\n",
        "\n",
        "    if total < 10:\n",
        "      carry = 0\n",
        "      break\n",
        "    else:\n",
        "      # Carry occured continue to the next digit\n",
        "      carry = 1\n",
        "\n",
        "  if carry == 1: # If carry is still 1 after traversing all digits, append 1 to the front\n",
        "    arr.insert(0,1)\n",
        "  return arr\n",
        "### Driver Code\n",
        "digits = [1,2,3]\n",
        "increment_array(digits)"
      ],
      "metadata": {
        "id": "9rNfT2FlEgLI",
        "colab": {
          "base_uri": "https://localhost:8080/"
        },
        "outputId": "59703980-0946-46d4-f795-16a4aec878b4"
      },
      "execution_count": null,
      "outputs": [
        {
          "output_type": "execute_result",
          "data": {
            "text/plain": [
              "[1, 2, 4]"
            ]
          },
          "metadata": {},
          "execution_count": 2
        }
      ]
    },
    {
      "cell_type": "markdown",
      "source": [
        "<aside>\n",
        "💡 **Q5.** You are given two integer arrays nums1 and nums2, sorted in non-decreasing order, and two integers m and n, representing the number of elements in nums1 and nums2 respectively.\n",
        "\n",
        "Merge nums1 and nums2 into a single array sorted in non-decreasing order.\n",
        "\n",
        "The final sorted array should not be returned by the function, but instead be stored inside the array nums1. To accommodate this, nums1 has a length of m + n, where the first m elements denote the elements that should be merged, and the last n elements are set to 0 and should be ignored. nums2 has a length of n.\n",
        "\n",
        "**Example 1:**\n",
        "Input: nums1 = [1,2,3,0,0,0], m = 3, nums2 = [2,5,6], n = 3\n",
        "Output: [1,2,2,3,5,6]\n",
        "\n",
        "**Explanation:** The arrays we are merging are [1,2,3] and [2,5,6].\n",
        "The result of the merge is [1,2,2,3,5,6] with the underlined elements coming from nums1.\n",
        "\n",
        "</aside>"
      ],
      "metadata": {
        "id": "lG_fRiaCpr4L"
      }
    },
    {
      "cell_type": "code",
      "source": [
        "def merge_sort(nums1,m,nums2,n):\n",
        "  # Create a copy of nums1 to store the merged result\n",
        "  nums1_copy = nums1[:m]\n",
        "  # Pointers for nums1_copy, nums2, and the merged result\n",
        "  p1 = 0\n",
        "  p2 = 0\n",
        "  p = 0\n",
        "  # Compare elements from nums1_copy and nums2 and place the smaller element in the merged result\n",
        "  while p1 < n and p2 < n:\n",
        "    if nums1_copy[p1] <= nums2[p2]:\n",
        "      nums1[p] = nums1_copy[p1]\n",
        "      p1 += 1\n",
        "    else:\n",
        "      nums1[p] = nums2[p2]\n",
        "      p2 += 1\n",
        "    p += 1\n",
        "  # If there are remaining elements in nums1_copy, place them in the merged result\n",
        "  while p1 < m:\n",
        "    nums1[p] = nums1_copy[p1]\n",
        "    p1 += 1\n",
        "    p += 1\n",
        "\n",
        "    # If there are remaining elements in nums2, place them in the merged result\n",
        "  while p2 < n:\n",
        "    nums1[p] = nums2[p2]\n",
        "    p2 += 1\n",
        "    p += 1\n",
        "  return nums1\n",
        "### Driver Code\n",
        "nums1 = [1,2,3,0,0,0]\n",
        "m = 3\n",
        "nums2 = [2,5,6]\n",
        "n = 3\n",
        "merge_sort(nums1,m,nums2,n)"
      ],
      "metadata": {
        "colab": {
          "base_uri": "https://localhost:8080/"
        },
        "id": "wwagC8zNm5N_",
        "outputId": "82bb8909-77a2-4bc6-e8d8-4d6e0604a427"
      },
      "execution_count": null,
      "outputs": [
        {
          "output_type": "execute_result",
          "data": {
            "text/plain": [
              "[1, 2, 2, 3, 5, 6]"
            ]
          },
          "metadata": {},
          "execution_count": 3
        }
      ]
    },
    {
      "cell_type": "markdown",
      "source": [
        "<aside>\n",
        "💡 **Q6.** Given an integer array nums, return true if any value appears at least twice in the array, and return false if every element is distinct.\n",
        "\n",
        "**Example 1:**\n",
        "Input: nums = [1,2,3,1]\n",
        "\n",
        "Output: true\n",
        "\n",
        "</aside>"
      ],
      "metadata": {
        "id": "fJ9RfhDEs3Ew"
      }
    },
    {
      "cell_type": "code",
      "source": [
        "def find_repeat_num(nums):\n",
        "  seen = set()\n",
        "  for num in nums:\n",
        "    if num in seen:\n",
        "      return True\n",
        "    seen.add(num)\n",
        "  return False\n",
        "## Driver Code\n",
        "nums =[1,2,3,1]\n",
        "find_repeat_num(nums)"
      ],
      "metadata": {
        "colab": {
          "base_uri": "https://localhost:8080/"
        },
        "id": "2zrtYXrQsiCe",
        "outputId": "09b3ece4-b01d-41c3-a83c-215a13de1d77"
      },
      "execution_count": null,
      "outputs": [
        {
          "output_type": "execute_result",
          "data": {
            "text/plain": [
              "True"
            ]
          },
          "metadata": {},
          "execution_count": 4
        }
      ]
    },
    {
      "cell_type": "markdown",
      "source": [
        "<aside>\n",
        "💡 **Q7.** Given an integer array nums, move all 0's to the end of it while maintaining the relative order of the nonzero elements.\n",
        "\n",
        "Note that you must do this in-place without making a copy of the array.\n",
        "\n",
        "**Example 1:**\n",
        "Input: nums = [0,1,0,3,12]\n",
        "Output: [1,3,12,0,0]\n",
        "\n",
        "</aside>"
      ],
      "metadata": {
        "id": "OBdymrituDbF"
      }
    },
    {
      "cell_type": "code",
      "source": [
        "def move_zeros(nums):\n",
        "  n = len(nums)\n",
        "  zeros_count = 0\n",
        "  for i in range(0,n):\n",
        "    if nums[i] == 0:\n",
        "      zeros_count += 1\n",
        "    else:\n",
        "      nums[i-zeros_count] = nums[i]\n",
        "  # Fill the remaining elements with zeros\n",
        "  for i in range(n-zeros_count,n):\n",
        "    nums[i] = 0\n",
        "\n",
        "### Driver Code\n",
        "nums = [0,1,0,3,12]\n",
        "move_zeros(nums)\n",
        "print(nums)"
      ],
      "metadata": {
        "colab": {
          "base_uri": "https://localhost:8080/"
        },
        "id": "AgZ2jpvmtrKb",
        "outputId": "b1821da1-d2f9-40f3-8119-4b3be11f17c3"
      },
      "execution_count": null,
      "outputs": [
        {
          "output_type": "stream",
          "name": "stdout",
          "text": [
            "[1, 3, 12, 0, 0]\n"
          ]
        }
      ]
    },
    {
      "cell_type": "markdown",
      "source": [
        "<aside>\n",
        "💡 **Q8.** You have a set of integers s, which originally contains all the numbers from 1 to n. Unfortunately, due to some error, one of the numbers in s got duplicated to another number in the set, which results in repetition of one number and loss of another number.\n",
        "\n",
        "You are given an integer array nums representing the data status of this set after the error.\n",
        "\n",
        "Find the number that occurs twice and the number that is missing and return them in the form of an array.\n",
        "\n",
        "**Example 1:**\n",
        "Input: nums = [1,2,2,4]\n",
        "Output: [2,3]\n",
        "\n",
        "</aside>"
      ],
      "metadata": {
        "id": "5Rn1CRWJv2-y"
      }
    },
    {
      "cell_type": "code",
      "source": [
        "def findErrorNums(nums):\n",
        "    n = len(nums)\n",
        "    duplicate = -1\n",
        "    missing = -1\n",
        "    # Find the duplicate number\n",
        "    for num in nums:\n",
        "        if nums[abs(num) - 1] < 0:\n",
        "            duplicate = abs(num)\n",
        "        else:\n",
        "            nums[abs(num) - 1] *= -1\n",
        "    # Find the missing number\n",
        "    for i in range(n):\n",
        "        if nums[i] > 0:\n",
        "            missing = i + 1\n",
        "            break\n",
        "\n",
        "    return [duplicate, missing]\n",
        "### Driver Code\n",
        "nums = [1,2,2,4]\n",
        "res = findErrorNums(nums)\n",
        "print(res)"
      ],
      "metadata": {
        "colab": {
          "base_uri": "https://localhost:8080/"
        },
        "id": "xKxSjy_AuuEW",
        "outputId": "26864528-5b2a-4f51-9a87-f1ea9de8615f"
      },
      "execution_count": null,
      "outputs": [
        {
          "output_type": "stream",
          "name": "stdout",
          "text": [
            "[2, 3]\n"
          ]
        }
      ]
    },
    {
      "cell_type": "code",
      "source": [],
      "metadata": {
        "id": "xOXjZAgyywVl"
      },
      "execution_count": null,
      "outputs": []
    }
  ]
}